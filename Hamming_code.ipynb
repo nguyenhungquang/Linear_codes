{
 "cells": [
  {
   "cell_type": "code",
   "execution_count": 1,
   "id": "f6309407",
   "metadata": {},
   "outputs": [],
   "source": [
    "from math import log"
   ]
  },
  {
   "cell_type": "markdown",
   "id": "66599f21",
   "metadata": {},
   "source": [
    "Nếu mã hóa mã Hamming bằng cách nhân vector với ma trận, phép toán này sẽ có độ phức tạp là $O(m^2)$ với $m$ là độ dài chuỗi.<br/>\n",
    "Ta có thể mã hóa một cách tối ưu hơn từ quan sát sau: Ma trận sinh của mã tuyến tính chứa ma trận đơn vị, tức là các vị trí trong chuỗi ban đầu không bị thay đổi giá trị, việc mã hóa có thể thực hiện bằng cách thêm $O(log m)$ giá trị vào chuỗi gốc (với mã Hamming), cách làm này sẽ có độ phức tạp là $O(m log m)$ <br/>\n",
    "Để đơn giản, ta sẽ dùng ma trận kiểm tra $H$ với cột thứ $i$ (chỉ số bắt đầu từ 1) là biểu diễn nhị phân của $i$ (việc này thỏa mãn tính chất của mã Hamming). Các cột chỉ gồm 1 số 1, hay nói cách khác có vị trí $2^n$ sẽ ứng với các bit được thêm vào. Minh họa với mã Hamming(7,4)<br/>\n",
    "\n",
    "| p_1 | p_2 | d_1 | p_4 | d_2 | d_3 | d_4 |\n",
    "| :-: | :-: | :-: | :-: | :-: | :-: | :-: |\n",
    "| 1 | 0 | 1 | 0 | 1 | 0 | 1 |\n",
    "| 0 | 1 | 1 | 0 | 0 | 1 | 1 |\n",
    "| 0 | 0 | 0 | 1 | 1 | 1 | 1 |\n",
    "\n",
    "Từ tính chất của ma trận kiểm tra, ta có thể tính bit được thêm ở vị trí $2^n$ từ các bit ở vị trí $i$ sao có biểu diễn nhị phân của $i$ bằng 1 tại vị trí thứ $n$ thông qua phép toán OR."
   ]
  },
  {
   "cell_type": "code",
   "execution_count": 2,
   "id": "54fb43a3",
   "metadata": {},
   "outputs": [],
   "source": [
    "def number_of_parity(data):\n",
    "    #calculate the number of parity bit one has to add\n",
    "    length=len(data)\n",
    "    for r in range(int(log(length)),length):\n",
    "        if 2**r >= length+r+1:\n",
    "            return r\n",
    "def add_bit(data, r):\n",
    "    #padding original data with r redundant bit\n",
    "    for i in range(r):\n",
    "        data.insert(2**i - 1, 0)\n",
    "    return data\n",
    "def encoding(data):\n",
    "    #calculate parity bits\n",
    "    r = number_of_parity(data)\n",
    "    data = add_bit(data, r)\n",
    "    length = len(data)\n",
    "    for i in range(r):\n",
    "        p = 0\n",
    "        for j in range(1, length + 1):\n",
    "            if (j & 2**i) and (j != 2**i):\n",
    "                p ^= data[j - 1]\n",
    "        data[2**i - 1] = p\n",
    "    return data, r"
   ]
  },
  {
   "cell_type": "markdown",
   "id": "9bde2998",
   "metadata": {},
   "source": [
    "Ta giải mã bằng cách nhân vector nhận được với ma trận $H$. Do ta đã sử dụng ma trận $H$ có cột thứ $i$ là biểu diễn nhị phân của $i$ để mã hóa, ở bước mã hóa ta sẽ sử dụng ma trận này. Vị trí thứ $i$ của vector đầu ra được tính bằng cách thực hiện phép toán OR cho vị trí $i$ của các cột với vị trí có biểu diễn nhị phân bằng 1 tại $i$, ví dụ vị trí thứ 1 được tính qua các cột 1, 3, 5, 7,... , vị trí thứ 2 được tính qua các cột 2, 3, 6, 7,..."
   ]
  },
  {
   "cell_type": "code",
   "execution_count": 3,
   "id": "539b814e",
   "metadata": {},
   "outputs": [],
   "source": [
    "def decoding(data, r):\n",
    "    length = len(data)\n",
    "    out=[]\n",
    "    for i in range(r):\n",
    "        p = 0\n",
    "        for j in range(1, length + 1):\n",
    "            if (j & 2**i):\n",
    "                p ^= data[j - 1]\n",
    "        out.append(p)\n",
    "    pos = sum([2**j * i for j, i in enumerate(out)])\n",
    "    data[pos-1] ^= 1\n",
    "    return data, pos"
   ]
  },
  {
   "cell_type": "code",
   "execution_count": 4,
   "id": "4951a66c",
   "metadata": {},
   "outputs": [
    {
     "name": "stdout",
     "output_type": "stream",
     "text": [
      "[0, 0, 1, 1, 1, 0, 0, 0, 1, 0, 1]\n"
     ]
    }
   ],
   "source": [
    "input = [1,1,0,0,1,0,1]\n",
    "data, r = encoding(input)\n",
    "print(data)"
   ]
  },
  {
   "cell_type": "code",
   "execution_count": 5,
   "id": "fc058eef",
   "metadata": {},
   "outputs": [],
   "source": [
    "import random\n",
    "def noise(data):\n",
    "    corrupted_pos = random.randint(0, len(data))\n",
    "    data[corrupted_pos] ^= 1\n",
    "    return data"
   ]
  },
  {
   "cell_type": "code",
   "execution_count": 6,
   "id": "06d79aee",
   "metadata": {},
   "outputs": [
    {
     "name": "stdout",
     "output_type": "stream",
     "text": [
      "[0, 0, 1, 0, 1, 0, 0, 0, 1, 0, 1]\n"
     ]
    }
   ],
   "source": [
    "corrupted_data = noise(data)\n",
    "print(corrupted_data)"
   ]
  },
  {
   "cell_type": "code",
   "execution_count": 7,
   "id": "532bd5fc",
   "metadata": {},
   "outputs": [
    {
     "data": {
      "text/plain": [
       "([0, 0, 1, 1, 1, 0, 0, 0, 1, 0, 1], 4)"
      ]
     },
     "execution_count": 7,
     "metadata": {},
     "output_type": "execute_result"
    }
   ],
   "source": [
    "correct = decoding(corrupted_data, r)\n",
    "correct"
   ]
  },
  {
   "cell_type": "code",
   "execution_count": 9,
   "id": "1b808258",
   "metadata": {},
   "outputs": [],
   "source": [
    "def back(data, r):\n",
    "    for i in range(r):\n",
    "        data[2**i - 1] = 0\n",
    "    print(data)"
   ]
  },
  {
   "cell_type": "code",
   "execution_count": null,
   "id": "4cf17052",
   "metadata": {},
   "outputs": [],
   "source": []
  }
 ],
 "metadata": {
  "kernelspec": {
   "display_name": "Python 3",
   "language": "python",
   "name": "python3"
  },
  "language_info": {
   "codemirror_mode": {
    "name": "ipython",
    "version": 3
   },
   "file_extension": ".py",
   "mimetype": "text/x-python",
   "name": "python",
   "nbconvert_exporter": "python",
   "pygments_lexer": "ipython3",
   "version": "3.9.2"
  }
 },
 "nbformat": 4,
 "nbformat_minor": 5
}
