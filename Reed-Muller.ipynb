{
 "cells": [
  {
   "cell_type": "code",
   "execution_count": 107,
   "id": "e5e8013c",
   "metadata": {},
   "outputs": [],
   "source": [
    "import itertools\n",
    "import operator\n",
    "from functools import reduce\n",
    "from itertools import combinations\n",
    "import numpy as np"
   ]
  },
  {
   "cell_type": "markdown",
   "id": "eccde606",
   "metadata": {},
   "source": [
    "## Mã hóa\n",
    "Với mã Reed-Muller, ta mã hóa đơn giản bằng cách nhân với ma trận sinh G.<br/>\n",
    "Mỗi hàng của ma trận là 1 đơn thức với số biến tăng dần. Ma trận sinh $G$ được tạo như sau: \n",
    "- Hàm $0$ được biểu diễn bởi vector gồm $2^m$ số 1.\n",
    "- Tạo các đơn thức gồm 1 biến bằng cách lặp lại giá trị $0$ và $1$. Hàm $x_i$ được sinh bằng cách nối $2^i$ số $0$ và $2^i$ số $1$, lặp lại đến khi được vector độ dài $2^m$\n",
    "- Nhân các hàm 1 biến $x_i$ để được các đơn thức bậc cao\n",
    "\n",
    "## Giải mã\n",
    "Với cách mã hóa bằng việc nhân ma trận như trên, ta có thể giải mã bằng thuật toán Reed.<br/>\n",
    "Ta định nghĩa i-flat là một coset $a + K$ với $K$ là một không gian con $i$ chiều của $Z^m_2$. Mỗi i-flat được biểu diễn qua một vector đặc trưng có độ dài $2^m$, với giá trị ở vị trí $k$ bằng 1 nếu $i$ thuộc i-flat đó.<br/>\n",
    "Để giải mã, ta tìm tính chẵn lẻ của 0-flat. Việc này được thực hiện một cách đệ quy như sau:\n",
    "- Tính chẵn lẻ của i-flat được tính qua biểu quyết số đông. Nếu trong số các i+1-flat chứa nó, số flat lẻ nhiều hơn thì i-flat đó được tính là lẻ, ngược lại nó được xem là chẵn.\n",
    "- Tính chẵn lẻ của r+1-flat được tính bằng cách lấy tích trong mô đun 2 với vector cần giải mã.\n",
    "\n",
    "Để sinh ra tất cả các flat, ta có tính chất sau:\n",
    "- Mỗi không gian con k chiều $K$ có thể mở rộng thành không gian con k+1 chiều $K'$ bằng cách thêm một phần tử không thuộc $K$ vào tập cơ sở.\n",
    "\n",
    "Các 0-flat là các tập hợp gồm 1 phần tử. Ta tạo i+1-flat $F'$ từ i-flat $F$ bằng cách chọn một giá trị $b$ nhỏ hơn $2^m$, cộng mỗi phần tử trong $F$ với b (phép cộng trên $Z^m_2$ được thực hiện bằng phép XOR) và thêm vào $F'$, rồi hợp với $F$. Nếu $|F'| = 2|F|$ thì $F'$ là một i+1-flat."
   ]
  },
  {
   "cell_type": "code",
   "execution_count": 108,
   "id": "6d003631",
   "metadata": {},
   "outputs": [],
   "source": [
    "class ReedMuller:\n",
    "    def __init__(self, m, r):\n",
    "        self.m = m\n",
    "        self.r = r\n",
    "        self.n = 2**m\n",
    "        self.G = self.__generating_matrix()\n",
    "        self.flat_list=self.__generate_flats()\n",
    "        \n",
    "    def __generate_flats(self):\n",
    "        \"\"\"Construct a list of flats\"\"\"\n",
    "        flat_list = [[{i} for i in range(self.n)]]\n",
    "        for i in range(1, self.r + 2):\n",
    "            i_flat = []\n",
    "            for sub_flat in flat_list[i - 1]:\n",
    "                for e in range(1, self.n):\n",
    "                    flat = sub_flat.union({e ^ j for j in sub_flat})\n",
    "                    if len(flat) == 2**i and flat not in i_flat:\n",
    "                        i_flat.append(flat)\n",
    "            flat_list.append(list(i_flat))\n",
    "        return flat_list\n",
    "            \n",
    "    def __variable_func(self, var):\n",
    "        \"\"\"Create a list of n variables monomials\"\"\"\n",
    "        return sum([[0] * 2**var + [1] * 2**var for i in range(2**(self.m - var - 1))], [])\n",
    "    \n",
    "    def __logical_product(self, f, g):\n",
    "        return [i * j for (i, j) in zip(f, g)]\n",
    "    \n",
    "    def __generating_matrix(self):\n",
    "        \"\"\"Construct generator matrix\"\"\"\n",
    "        variable_funcs = [self.__variable_func(i) for i in range(self.m)]\n",
    "        monomial_list = [reduce(self.__logical_product, [variable_funcs[i] for i in index_list]) for num_var in range(2, self.r + 1) for index_list in combinations(range(self.m), num_var)]\n",
    "        matrix = [[1] * 2**self.m] + variable_funcs + monomial_list\n",
    "        return np.array(matrix)\n",
    "    \n",
    "    def encoding(self, data):\n",
    "        assert len(data) == self.G.shape[0]\n",
    "        return data.dot(self.G) % 2\n",
    "    \n",
    "    def __characteristic_func(self, flat):\n",
    "        \"\"\"Construct characteristic function of flat from elements\"\"\"\n",
    "        vector = np.zeros(self.n)\n",
    "        vector[list(flat)] = 1\n",
    "        return vector\n",
    "    \n",
    "    def decoding(self, word):\n",
    "        word = np.array(word)\n",
    "        parity = [[] for i in range(self.r + 2)]\n",
    "        for i in range(self.r + 1, -1, -1):\n",
    "            if i == self.r + 1:\n",
    "                for flat in self.flat_list[i]:\n",
    "                    parity[i].append(word.dot(self.__characteristic_func(flat)) % 2)\n",
    "            else:\n",
    "                for flat in self.flat_list[i]:\n",
    "                    count = []\n",
    "                    for index in range(len(parity[i + 1])):\n",
    "                        if flat.issubset(self.flat_list[i + 1][index]):\n",
    "                            count.append(parity[i + 1][index])\n",
    "                    if sum(count) * 2 > len(count):\n",
    "                        parity[i].append(1)\n",
    "                    else:\n",
    "                        parity[i].append(0)\n",
    "        e = []\n",
    "        for i, p in enumerate(parity[0]):\n",
    "            if p:\n",
    "                word[i] ^= 1\n",
    "                e.append(i)\n",
    "        return word, e"
   ]
  },
  {
   "cell_type": "code",
   "execution_count": 109,
   "id": "b1338295",
   "metadata": {},
   "outputs": [
    {
     "data": {
      "text/plain": [
       "array([0, 1, 0, 1])"
      ]
     },
     "execution_count": 109,
     "metadata": {},
     "output_type": "execute_result"
    }
   ],
   "source": [
    "data = np.random.randint(low = 0, high = 2, size = (4, ))\n",
    "data"
   ]
  },
  {
   "cell_type": "code",
   "execution_count": 149,
   "id": "7e5079b9",
   "metadata": {},
   "outputs": [],
   "source": [
    "import random\n",
    "def noise(word, num_e):\n",
    "    data = word.copy()\n",
    "    corrupted_pos = np.random.randint(0, high = len(data) - 1, size = num_e)\n",
    "    data[corrupted_pos] ^= 1\n",
    "    return data, corrupted_pos"
   ]
  },
  {
   "cell_type": "code",
   "execution_count": 150,
   "id": "306f1360",
   "metadata": {},
   "outputs": [
    {
     "data": {
      "text/plain": [
       "array([0, 1, 0, 1, 1, 0, 1, 0], dtype=int32)"
      ]
     },
     "execution_count": 150,
     "metadata": {},
     "output_type": "execute_result"
    }
   ],
   "source": [
    "rm = ReedMuller(3, 1)\n",
    "word = rm.encoding(data)\n",
    "word"
   ]
  },
  {
   "cell_type": "code",
   "execution_count": 151,
   "id": "b6d9c829",
   "metadata": {},
   "outputs": [
    {
     "data": {
      "text/plain": [
       "(array([0, 1, 0, 0, 0, 0, 1, 0], dtype=int32), array([3, 4]))"
      ]
     },
     "execution_count": 151,
     "metadata": {},
     "output_type": "execute_result"
    }
   ],
   "source": [
    "corrupted, e = noise(word, 2)\n",
    "corrupted, e"
   ]
  },
  {
   "cell_type": "code",
   "execution_count": 106,
   "id": "97cee438",
   "metadata": {},
   "outputs": [
    {
     "data": {
      "text/plain": [
       "(array([1, 0, 0, 1, 1, 0, 0, 1], dtype=int32), [7])"
      ]
     },
     "execution_count": 106,
     "metadata": {},
     "output_type": "execute_result"
    }
   ],
   "source": [
    "correct = rm.decoding(corrupted)\n",
    "correct"
   ]
  },
  {
   "cell_type": "code",
   "execution_count": null,
   "id": "04d6e0ec",
   "metadata": {},
   "outputs": [],
   "source": []
  }
 ],
 "metadata": {
  "kernelspec": {
   "display_name": "Python 3",
   "language": "python",
   "name": "python3"
  },
  "language_info": {
   "codemirror_mode": {
    "name": "ipython",
    "version": 3
   },
   "file_extension": ".py",
   "mimetype": "text/x-python",
   "name": "python",
   "nbconvert_exporter": "python",
   "pygments_lexer": "ipython3",
   "version": "3.9.2"
  }
 },
 "nbformat": 4,
 "nbformat_minor": 5
}
