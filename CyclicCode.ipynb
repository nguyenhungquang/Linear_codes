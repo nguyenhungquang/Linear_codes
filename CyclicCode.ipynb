{
 "cells": [
  {
   "cell_type": "code",
   "execution_count": 162,
   "id": "a05e31bb",
   "metadata": {},
   "outputs": [],
   "source": [
    "import numpy as np\n",
    "from itertools import combinations"
   ]
  },
  {
   "cell_type": "code",
   "execution_count": 569,
   "id": "4d10e82c",
   "metadata": {},
   "outputs": [],
   "source": [
    "class CyclicCode:\n",
    "    def __init__(self, p, n, generator = None):\n",
    "        self.p = p\n",
    "        self.n = n\n",
    "        if generator:\n",
    "            assert max(generator) < p\n",
    "            self.gen = np.array(generator)\n",
    "        self.deg_gen = self.__degree(self.gen)\n",
    "        assert self.deg_gen < self.n\n",
    "        \n",
    "    def __degree(self, poly):\n",
    "        l = np.nonzero(poly)[0]\n",
    "        if len(l):\n",
    "            return np.max(np.nonzero(poly))\n",
    "        return 0\n",
    "    \n",
    "    def __weight(self, w):\n",
    "#         print(np.nonzero(w))\n",
    "        return len(np.nonzero(w)[0])\n",
    "    \n",
    "    def __index2vec(self, index: tuple):\n",
    "        index = np.array(index) - 1\n",
    "        return np.array([0 if i not in index else 1 for i in range(self.n)])\n",
    "    \n",
    "    def __mul_by_c(self, poly, c):\n",
    "        \"\"\"Multiply by a constant\"\"\"\n",
    "        return poly * c % self.p\n",
    "    \n",
    "    def __c_div(self, n, c):\n",
    "        \"\"\"Divide a constant by a constant\"\"\"\n",
    "        for i in range(self.p):\n",
    "            if i * n % self.p == c:\n",
    "                return i\n",
    "    \n",
    "    def __pad(self, w):\n",
    "        v = np.zeros(self.n)\n",
    "        v[:len(w)] = w\n",
    "        return v\n",
    "    \n",
    "    def __shift(self, w, j):\n",
    "        v = np.zeros(self.n)\n",
    "        v[:len(w)] = w\n",
    "        return np.roll(v, j)\n",
    "    \n",
    "    def __poly_mul(self, u, v):\n",
    "        return np.convolve(u, v) % self.p\n",
    "    \n",
    "    def __monomial(self, deg):\n",
    "        return np.array([0 for i in range(deg)] + [1])\n",
    "        \n",
    "    def __convert_eff(self, poly):\n",
    "        \"\"\"Convert efficient to range 0 to p - 1\"\"\"\n",
    "        for i in range(len(poly)):\n",
    "            if poly[i] >= self.p:\n",
    "                poly[i] %= self.p\n",
    "            while poly[i] < 0:\n",
    "                poly[i] = (poly[i] + self.p) % self.p\n",
    "        return poly\n",
    "                \n",
    "    def remainder(self, u, g):\n",
    "        \"\"\"Euclidean division\"\"\"\n",
    "        deg_u = self.__degree(u)\n",
    "        u = self.__convert_eff(u[:deg_u + 1])\n",
    "        deg_g = self.__degree(g)\n",
    "        g = self.__convert_eff(g[:deg_g + 1])\n",
    "        r =  deg_u - deg_g\n",
    "        if r < 0 or deg_u == 0:\n",
    "            return u\n",
    "        else:\n",
    "#             print(self.__poly_mul(self.__mul_by_c(self.gen, self.__c_div(u[deg_u], self.gen[self.deg_gen])), self.__monomial(r)), u)\n",
    "            return self.remainder(u - self.__poly_mul(self.__mul_by_c(self.gen, self.__c_div(u[deg_u], g[deg_g])), self.__monomial(r)), g)\n",
    "    \n",
    "    def encoding(self, u):\n",
    "        l = len(u)\n",
    "        assert l - 1 == self.deg_gen\n",
    "        v = np.zeros(self.n)\n",
    "        v[:l] = u\n",
    "        u = np.flip(v)\n",
    "        r = self.remainder(u, self.gen)\n",
    "        u[:len(r)] += r\n",
    "        return self.__convert_eff(u)\n",
    "    \n",
    "    def meggitt_decoding(self, word, t):\n",
    "        \"\"\"\n",
    "        For simplicity, this function is implemented for p = 2 only.\n",
    "        t is the number of errors\n",
    "        \"\"\"\n",
    "        er = []\n",
    "        for i in range(t):\n",
    "            for j in combinations(np.arange(self.n), i):\n",
    "                er.append(self.__index2vec(j + (self.n, )))\n",
    "        syn_table = [self.remainder(e, self.gen) for e in er]\n",
    "        word = self.__convert_eff(word)\n",
    "        syn = self.remainder(word, self.gen)\n",
    "        if sum(syn) == 0:\n",
    "            return word\n",
    "        for i in range(self.n - 1):\n",
    "            syn = np.array(syn)\n",
    "            for j in range(len(syn_table)):\n",
    "                if np.array_equal(syn, syn_table[j]):\n",
    "                    word[:len(er[j])] -= er[j]\n",
    "                    word = self.__convert_eff(word)\n",
    "                    break\n",
    "            word = np.roll(word, 1)\n",
    "            syn = self.remainder(self.__poly_mul(syn, np.array([0, 1])), self.gen)\n",
    "        word = np.roll(word, 1)\n",
    "        return word\n",
    "        \n",
    "    def error_trapping_decoding(self, word, t):\n",
    "        assert self.p == 2\n",
    "        word = self.__pad(np.array(word))\n",
    "        for j in range(self.n + 1):\n",
    "            word = self.__shift(word, j)\n",
    "            syn = self.remainder(word, self.gen)\n",
    "#             print(syn, word)\n",
    "            if self.__weight(syn) <= t and self.__degree(word) >= self.deg_gen:\n",
    "#                 print(syn, self.__weight(syn))\n",
    "                word[:len(syn)] -= syn\n",
    "                word = self.__shift(word, -j)\n",
    "                return self.__convert_eff(word)\n",
    "        return self.__convert_eff(word)"
   ]
  },
  {
   "cell_type": "code",
   "execution_count": 512,
   "id": "01edf313",
   "metadata": {},
   "outputs": [],
   "source": [
    "a=CyclicCode(3, 4, [1,0,2])"
   ]
  },
  {
   "cell_type": "code",
   "execution_count": 513,
   "id": "25719542",
   "metadata": {},
   "outputs": [
    {
     "data": {
      "text/plain": [
       "array([0])"
      ]
     },
     "execution_count": 513,
     "metadata": {},
     "output_type": "execute_result"
    }
   ],
   "source": [
    "a.remainder([1,1,2,2], [1,0,2])"
   ]
  },
  {
   "cell_type": "code",
   "execution_count": 514,
   "id": "47d17eb6",
   "metadata": {},
   "outputs": [
    {
     "data": {
      "text/plain": [
       "array([0, 2, 0])"
      ]
     },
     "execution_count": 514,
     "metadata": {},
     "output_type": "execute_result"
    }
   ],
   "source": [
    "data = np.random.randint(0, 3, 3)\n",
    "data"
   ]
  },
  {
   "cell_type": "code",
   "execution_count": 515,
   "id": "50a78cce",
   "metadata": {},
   "outputs": [
    {
     "data": {
      "text/plain": [
       "array([2., 0., 2., 0.])"
      ]
     },
     "execution_count": 515,
     "metadata": {},
     "output_type": "execute_result"
    }
   ],
   "source": [
    "a.encoding(data)"
   ]
  },
  {
   "cell_type": "markdown",
   "id": "66813ca5",
   "metadata": {},
   "source": [
    "Hamming code (7,4) with generator polynomial $1 + x + x^3$"
   ]
  },
  {
   "cell_type": "code",
   "execution_count": 484,
   "id": "1ab80a94",
   "metadata": {},
   "outputs": [],
   "source": [
    "hm = CyclicCode(2, 7, [1, 1, 0, 1])"
   ]
  },
  {
   "cell_type": "code",
   "execution_count": 361,
   "id": "2611317e",
   "metadata": {},
   "outputs": [
    {
     "data": {
      "text/plain": [
       "array([0])"
      ]
     },
     "execution_count": 361,
     "metadata": {},
     "output_type": "execute_result"
    }
   ],
   "source": [
    "hm.remainder([1, 0, 1, 0, 0, 0, 1], hm.gen)"
   ]
  },
  {
   "cell_type": "code",
   "execution_count": 362,
   "id": "d240e024",
   "metadata": {},
   "outputs": [
    {
     "data": {
      "text/plain": [
       "(array([1, 0, 1, 0, 1, 0, 1]), array([4]))"
      ]
     },
     "execution_count": 362,
     "metadata": {},
     "output_type": "execute_result"
    }
   ],
   "source": [
    "word = np.array([1, 0, 1, 0, 0, 0, 1])\n",
    "def noise(word, num_e):\n",
    "    data = word.copy()\n",
    "    corrupted_pos = np.random.randint(0, high = len(data) - 1, size = num_e)\n",
    "    data[corrupted_pos] ^= 1\n",
    "    return data, corrupted_pos\n",
    "word, e = noise(word, 1)\n",
    "word, e"
   ]
  },
  {
   "cell_type": "code",
   "execution_count": 485,
   "id": "e1252eda",
   "metadata": {},
   "outputs": [
    {
     "data": {
      "text/plain": [
       "array([1, 0, 1, 0, 0, 0, 1])"
      ]
     },
     "execution_count": 485,
     "metadata": {},
     "output_type": "execute_result"
    }
   ],
   "source": [
    "hm.meggitt_decoding(word, 1)"
   ]
  },
  {
   "cell_type": "markdown",
   "id": "415aa1ec",
   "metadata": {},
   "source": [
    "Error trapping decode"
   ]
  },
  {
   "cell_type": "code",
   "execution_count": 570,
   "id": "bf3f5e0a",
   "metadata": {},
   "outputs": [],
   "source": [
    "bch = CyclicCode(2, 15, [1, 0, 0, 0, 1, 0, 1, 1, 1])"
   ]
  },
  {
   "cell_type": "code",
   "execution_count": 563,
   "id": "95818b9a",
   "metadata": {},
   "outputs": [],
   "source": [
    "data = [1, 0, 0, 0, 1, 0, 1, 1, 1, 0, 0, 0, 0, 0, 0]"
   ]
  },
  {
   "cell_type": "code",
   "execution_count": 572,
   "id": "35e25095",
   "metadata": {},
   "outputs": [
    {
     "data": {
      "text/plain": [
       "[1, 1, 1, 0, 1, 0, 1, 1, 1, 0, 0, 0, 0, 0, 0]"
      ]
     },
     "execution_count": 572,
     "metadata": {},
     "output_type": "execute_result"
    }
   ],
   "source": [
    "def burst_noise(word, t):\n",
    "    noise = (np.arange(t) + np.random.randint(len(word))) % len(word)\n",
    "    return [word[i] if i not in noise else word[i] ^ 1 for i in range(len(word))]\n",
    "err = burst_noise(data, 2)\n",
    "err"
   ]
  },
  {
   "cell_type": "code",
   "execution_count": 573,
   "id": "d7ee269a",
   "metadata": {},
   "outputs": [
    {
     "data": {
      "text/plain": [
       "array([1., 0., 0., 0., 1., 0., 1., 1., 1., 0., 0., 0., 0., 0., 0.])"
      ]
     },
     "execution_count": 573,
     "metadata": {},
     "output_type": "execute_result"
    }
   ],
   "source": [
    "bch.error_trapping_decoding(err, 2)"
   ]
  },
  {
   "cell_type": "code",
   "execution_count": 559,
   "id": "b71854dc",
   "metadata": {},
   "outputs": [],
   "source": [
    "err = [0, 0, 0, 0, 1, 0, 1, 1, 1, 0, 0, 0, 0, 0, 1]"
   ]
  },
  {
   "cell_type": "code",
   "execution_count": null,
   "id": "536d27ce",
   "metadata": {},
   "outputs": [],
   "source": []
  }
 ],
 "metadata": {
  "kernelspec": {
   "display_name": "Python 3",
   "language": "python",
   "name": "python3"
  },
  "language_info": {
   "codemirror_mode": {
    "name": "ipython",
    "version": 3
   },
   "file_extension": ".py",
   "mimetype": "text/x-python",
   "name": "python",
   "nbconvert_exporter": "python",
   "pygments_lexer": "ipython3",
   "version": "3.9.2"
  }
 },
 "nbformat": 4,
 "nbformat_minor": 5
}
